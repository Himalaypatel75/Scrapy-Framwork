{
 "cells": [
  {
   "cell_type": "code",
   "execution_count": 1,
   "metadata": {},
   "outputs": [],
   "source": [
    "from bs4 import BeautifulSoup"
   ]
  },
  {
   "cell_type": "code",
   "execution_count": 3,
   "metadata": {},
   "outputs": [
    {
     "name": "stdout",
     "output_type": "stream",
     "text": [
      "From - CASTEL SAN GIOVANNI, IT | To - PEGOGNAGA, IT | Cost - 250,00 €\n",
      "From - ALESSANDRIA, IT | To - SIERO, ES | Cost - 200,00 €\n",
      "From - ALESSANDRIA, IT | To - SAVONA, IT | Cost - 350,00 €\n",
      "From - SAN GIULIANO MILANESE, IT | To - BENTIVOGLIO, IT | Cost - 350,00 €\n",
      "From - SAN GIULIANO MILANESE, IT | To - BENTIVOGLIO, IT | Cost - 350,00 €\n",
      "From - MILANO, IT | To - MILANO, IT | Cost - 570,00 €\n",
      "From - MILANO, IT | To - MILANO, IT | Cost - 570,00 €\n",
      "From - MILANO, IT | To - MILANO, IT | Cost - 570,00 €\n",
      "From - MILANO, IT | To - MILANO, IT | Cost - 570,00 €\n",
      "From - MILANO, IT | To - MILANO, IT | Cost - 400,00 €\n",
      "From - SAN GIULIANO MILANESE, IT | To - BENTIVOGLIO, IT | Cost - 350,00 €\n",
      "From - MILANO, IT | To - MILANO, IT | Cost - 400,00 €\n",
      "From - MILANO, IT | To - MILANO, IT | Cost - 400,00 €\n",
      "From - MILANO, IT | To - MILANO, IT | Cost - 400,00 €\n",
      "From - SAN GIULIANO MILANESE, IT | To - BENTIVOGLIO, IT | Cost - 350,00 €\n",
      "From - SALATA, IT | To - SALATA, IT | Cost - 660,00 €\n",
      "From - SALATA, IT | To - SALATA, IT | Cost - 660,00 €\n",
      "From - SALATA, IT | To - SALATA, IT | Cost - 660,00 €\n",
      "From - SALATA, IT | To - SALATA, IT | Cost - 660,00 €\n",
      "From - SAN GIULIANO MILANESE, IT | To - BENTIVOGLIO, IT | Cost - 350,00 €\n",
      "From - PIEVE EMANUELE, IT | To - SAINT PRIEST, FR | Cost - 1 070,00 €\n",
      "From - PIEVE EMANUELE, IT | To - SAINT PRIEST, FR | Cost - 1 250,00 €\n",
      "From - PIEVE EMANUELE, IT | To - SAINT PRIEST, FR | Cost - 1 250,00 €\n",
      "From - PIEVE EMANUELE, IT | To - SAINT PRIEST, FR | Cost - 1 250,00 €\n",
      "From - SAINT QUENTIN FALLAVIER, FR | To - PIEVE EMANUELE, IT | Cost - 580,00 €\n"
     ]
    }
   ],
   "source": [
    "# Load the saved HTML file\n",
    "from bs4 import BeautifulSoup\n",
    "\n",
    "with open(\"page_render_content.html\", \"r\", encoding=\"utf-8\") as file:\n",
    "    html_content = file.read()\n",
    "\n",
    "# Parse HTML content with BeautifulSoup\n",
    "soup = BeautifulSoup(html_content, \"lxml\")\n",
    "\n",
    "# Use the CSS selector to locate elements\n",
    "from_elements = [elem.text.strip() for elem in soup.select(\".stop-div div:nth-child(1) .text-bold\")]\n",
    "to_elements = [elem.text.strip() for elem in soup.select(\".stop-div div+ div div .font-size-large\")]\n",
    "cost_elements = [elem.text.strip() for elem in soup.select(\".euro-value\")]\n",
    "\n",
    "# Zip the values and print them in one line\n",
    "for from_text, to_text, cost_text in zip(from_elements, to_elements, cost_elements):\n",
    "    print(f\"From - {from_text} | To - {to_text} | Cost - {cost_text}\")\n"
   ]
  }
 ],
 "metadata": {
  "kernelspec": {
   "display_name": "env",
   "language": "python",
   "name": "python3"
  },
  "language_info": {
   "codemirror_mode": {
    "name": "ipython",
    "version": 3
   },
   "file_extension": ".py",
   "mimetype": "text/x-python",
   "name": "python",
   "nbconvert_exporter": "python",
   "pygments_lexer": "ipython3",
   "version": "3.10.12"
  }
 },
 "nbformat": 4,
 "nbformat_minor": 2
}
